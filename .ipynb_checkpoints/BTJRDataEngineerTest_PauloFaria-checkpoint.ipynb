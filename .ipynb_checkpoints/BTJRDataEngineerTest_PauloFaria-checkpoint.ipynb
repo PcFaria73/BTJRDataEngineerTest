{
 "cells": [
  {
   "cell_type": "markdown",
   "id": "e1894c10",
   "metadata": {},
   "source": [
    "# BT - Junior Data Engineer Test\n",
    "\n",
    "Name: Paulo Faria\n",
    "April/2022\n",
    "\n",
    "Coding Test Instructions: \n",
    "• This test is designed for candidates to demonstrate their problem solving approach, knowledge of good coding practices and data engineering skills. \n",
    "• Use the programming language that you think is more appropriate to write the code to solve the following problem. \n",
    "• Save the code in GitHub and share the link with us. \n",
    "• During the interview - Discuss about logging, unit testing and everything you think may be appropriate to help us evaluating your code. \n",
    "\n",
    "Coding Challenge: \n",
    "\n",
    "1. Read a text file containing free text in it. Example: \n",
    "\n",
    "William Shakespeare was an English playwright, poet and actor. He is widely regarded as the greatest writer in the English language and the world's greatest dramatist. He is often called England's national poet and the \"Bard of Avon\". \n",
    "\n",
    "2. Execute a word count and create a dictionary. Example (only a part of the dictionary is shown) \n",
    "\n",
    "“English”: 2, \n",
    "“William”: 1, \n",
    "“He”: 2, \n",
    "“the”: 3, \n",
    "“greatest”: 2 \n",
    "\n",
    "3. Print the dictionary with the values in reverse order: \n",
    "\n",
    "the: 3 \n",
    "English: 2 \n",
    "greatest: 2 \n",
    "He: 2 \n",
    "William: 1\n"
   ]
  },
  {
   "cell_type": "code",
   "execution_count": 6,
   "id": "9e22eacb",
   "metadata": {},
   "outputs": [],
   "source": [
    "# Func to revert order of words on dic \n",
    "def invert(text):\n",
    "    sort = {k: v for k, v in sorted(text.items(), key=lambda item: item[1], reverse=True)}\n",
    "    return sort"
   ]
  },
  {
   "cell_type": "code",
   "execution_count": 7,
   "id": "b8cd4eef",
   "metadata": {},
   "outputs": [],
   "source": [
    "# Func to read file to Dict\n",
    "def rfile(filename):\n",
    "    import string \n",
    "    text = open(filename + \".txt\", \"r\") \n",
    "\n",
    "    d = dict() \n",
    "\n",
    "    for line in text: \n",
    "        line = line.strip() \n",
    "        line = line.lower() \n",
    "\n",
    "        line = line.translate(line.maketrans(\"\", \"\", string.punctuation)) \n",
    "        words = line.split(\" \") \n",
    "\n",
    "        for word in words: \n",
    "            if word in d: \n",
    "                  d[word] = d[word] + 1\n",
    "            else: \n",
    "                  d[word] = 1\n",
    "    return d"
   ]
  },
  {
   "cell_type": "code",
   "execution_count": 8,
   "id": "b410dcec",
   "metadata": {
    "scrolled": true
   },
   "outputs": [
    {
     "name": "stdout",
     "output_type": "stream",
     "text": [
      "William Shakespeare was an English playwright, poet and actor. He is widely regarded as the greatest writer in the English language and the world's greatest dramatist. He is often called England's national poet and the \"Bard of Avon\".\n"
     ]
    }
   ],
   "source": [
    "# ANSWER 1\n",
    "# Opening BT.txt file\n",
    "import os\n",
    "arq = open(os.path.join('BT.txt'),'r')\n",
    "content = arq.read()\n",
    "arq.close\n",
    "\n",
    "# just showing to prove that works well\n",
    "print(content)"
   ]
  },
  {
   "cell_type": "code",
   "execution_count": 9,
   "id": "84d28563",
   "metadata": {
    "collapsed": true
   },
   "outputs": [
    {
     "name": "stdout",
     "output_type": "stream",
     "text": [
      "\n",
      "Name of the File you want? BT\n",
      "william : 1\n",
      "shakespeare : 1\n",
      "was : 1\n",
      "an : 1\n",
      "english : 2\n",
      "playwright : 1\n",
      "poet : 2\n",
      "and : 3\n",
      "actor : 1\n",
      "he : 2\n",
      "is : 2\n",
      "widely : 1\n",
      "regarded : 1\n",
      "as : 1\n",
      "the : 4\n",
      "greatest : 2\n",
      "writer : 1\n",
      "in : 1\n",
      "language : 1\n",
      "worlds : 1\n",
      "dramatist : 1\n",
      "often : 1\n",
      "called : 1\n",
      "englands : 1\n",
      "national : 1\n",
      "bard : 1\n",
      "of : 1\n",
      "avon : 1\n"
     ]
    }
   ],
   "source": [
    "#ANSWER 2\n",
    "user_input = input('\\nName of the File you want? ')\n",
    "\n",
    "d = rfile(user_input)\n",
    "\n",
    "for key in list(d.keys()): \n",
    "    print(key, \":\", d[key])"
   ]
  },
  {
   "cell_type": "code",
   "execution_count": 10,
   "id": "4d643a04",
   "metadata": {
    "collapsed": true
   },
   "outputs": [
    {
     "name": "stdout",
     "output_type": "stream",
     "text": [
      "\n",
      "Name of the File you want? BT\n",
      "the : 4\n",
      "and : 3\n",
      "english : 2\n",
      "poet : 2\n",
      "he : 2\n",
      "is : 2\n",
      "greatest : 2\n",
      "william : 1\n",
      "shakespeare : 1\n",
      "was : 1\n",
      "an : 1\n",
      "playwright : 1\n",
      "actor : 1\n",
      "widely : 1\n",
      "regarded : 1\n",
      "as : 1\n",
      "writer : 1\n",
      "in : 1\n",
      "language : 1\n",
      "worlds : 1\n",
      "dramatist : 1\n",
      "often : 1\n",
      "called : 1\n",
      "englands : 1\n",
      "national : 1\n",
      "bard : 1\n",
      "of : 1\n",
      "avon : 1\n"
     ]
    }
   ],
   "source": [
    "#ANSWER 3\n",
    "\n",
    "user_input = input('\\nName of the File you want? ')\n",
    "\n",
    "d = rfile(user_input)\n",
    "\n",
    "d = invert(d)\n",
    "\n",
    "for key in list(d.keys()): \n",
    "    print(key, \":\", d[key])"
   ]
  },
  {
   "cell_type": "code",
   "execution_count": null,
   "id": "807a88dc",
   "metadata": {
    "scrolled": true
   },
   "outputs": [],
   "source": [
    "# Some Stats Resume \n",
    "words = len(content.split())\n",
    "qtdcarac = len(content)\n",
    "\n",
    "print('Words: ' + str(words))\n",
    "print('Characters: ' + str(qtdcarac))\n",
    "print('Word Count: ' + str(len(d.keys())))"
   ]
  },
  {
   "cell_type": "code",
   "execution_count": null,
   "id": "011c2063",
   "metadata": {},
   "outputs": [],
   "source": []
  }
 ],
 "metadata": {
  "kernelspec": {
   "display_name": "Python 3 (ipykernel)",
   "language": "python",
   "name": "python3"
  },
  "language_info": {
   "codemirror_mode": {
    "name": "ipython",
    "version": 3
   },
   "file_extension": ".py",
   "mimetype": "text/x-python",
   "name": "python",
   "nbconvert_exporter": "python",
   "pygments_lexer": "ipython3",
   "version": "3.9.7"
  }
 },
 "nbformat": 4,
 "nbformat_minor": 5
}
